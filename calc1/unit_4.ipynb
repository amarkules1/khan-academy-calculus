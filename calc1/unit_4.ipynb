{
 "cells": [
  {
   "cell_type": "markdown",
   "metadata": {},
   "source": [
    "# L'Hopital's Rule:\n",
    "\n",
    "## Case 1:\n",
    "\n",
    "IF:\n",
    "\n",
    "$$\\lim_{x \\to a} f(x) = 0$$\n",
    "\n",
    "AND:\n",
    "\n",
    "$$\\lim_{x \\to a} g(x) = 0$$\n",
    "\n",
    "AND:\n",
    "\n",
    "$$\\lim_{x \\to a} \\frac{f'(x)}{g'(x)} = L$$\n",
    "\n",
    "THEN:\n",
    "\n",
    "$$\\lim_{x \\to a} \\frac{f(x)}{g(x)} = L$$\n",
    "\n",
    "## Case 2:\n",
    "\n",
    "IF:\n",
    "\n",
    "$$\\lim_{x \\to a} f(x) = \\pm \\infty$$\n",
    "\n",
    "AND:\n",
    "\n",
    "$$\\lim_{x \\to a} g(x) = \\pm \\infty$$\n",
    "\n",
    "AND:\n",
    "\n",
    "$$\\lim_{x \\to a} \\frac{f'(x)}{g'(x)} = L$$\n",
    "\n",
    "THEN:\n",
    "\n",
    "$$\\lim_{x \\to a} \\frac{f(x)}{g(x)} = L$$"
   ]
  }
 ],
 "metadata": {
  "kernelspec": {
   "display_name": "Python 3",
   "language": "python",
   "name": "python3"
  },
  "language_info": {
   "name": "python",
   "version": "3.9.7"
  },
  "orig_nbformat": 4
 },
 "nbformat": 4,
 "nbformat_minor": 2
}
