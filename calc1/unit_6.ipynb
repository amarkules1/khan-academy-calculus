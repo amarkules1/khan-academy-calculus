{
 "cells": [
  {
   "cell_type": "code",
   "execution_count": null,
   "metadata": {},
   "outputs": [],
   "source": []
  },
  {
   "cell_type": "markdown",
   "metadata": {},
   "source": [
    "Riemann Sums are a way to approximate the area under a curve. The idea is to divide the area into small rectangles, calculate the area of each rectangle, and then sum them up. The more rectangles we use, the better the approximation."
   ]
  },
  {
   "cell_type": "markdown",
   "metadata": {},
   "source": [
    "Left Riemann Sum uses the left endpoint of each subinterval to calculate the height of the rectangle. The formula is:\n",
    "\n",
    "$$\\sum_{i=0}^{n-1} f(x_i) \\cdot \\Delta x$$\n",
    "\n",
    "where $f(x_i)$ is the value of the function at the left endpoint of the $i$-th subinterval, and $\\Delta x$ is the width of each subinterval."
   ]
  },
  {
   "cell_type": "markdown",
   "metadata": {},
   "source": [
    "Right Riemann Sum uses the right endpoint of each subinterval to calculate the height of the rectangle.\n",
    "\n",
    "Middle Riemann Sum uses the midpoint of each subinterval to calculate the height of the rectangle.\n",
    "\n",
    "Trapezoidal Riemann Sum uses the left and right endpoints of each subinterval to calculate the height of the trapezoid. The formula is:\n",
    "\n",
    "$$\\sum_{i=0}^{n-1} \\frac{f(x_i) + f(x_{i+1})}{2} \\cdot \\Delta x$$\n",
    "\n",
    "where $f(x_i)$ and $f(x_{i+1})$ are the values of the function at the left and right endpoints of the $i$-th subinterval, and $\\Delta x$ is the width of each subinterval."
   ]
  },
  {
   "cell_type": "markdown",
   "metadata": {},
   "source": [
    "Definition of an integral as the limit of a Riemann sum:\n",
    "\n",
    "$$\\int_{a}^{b} f(x) \\, dx = \\lim_{n \\to \\infty} \\sum_{i=1}^{n} f(a + (\\Delta x i)) \\cdot \\Delta x$$\n",
    "\n",
    "where $\\Delta x = \\frac{b-a}{n}$ and $x_i = a + i \\cdot \\Delta x$."
   ]
  },
  {
   "cell_type": "code",
   "execution_count": 2,
   "metadata": {},
   "outputs": [
    {
     "data": {
      "text/plain": [
       "318"
      ]
     },
     "execution_count": 2,
     "metadata": {},
     "output_type": "execute_result"
    }
   ],
   "source": [
    "6+58+254\n"
   ]
  }
 ],
 "metadata": {
  "kernelspec": {
   "display_name": "datascienv",
   "language": "python",
   "name": "python3"
  },
  "language_info": {
   "codemirror_mode": {
    "name": "ipython",
    "version": 3
   },
   "file_extension": ".py",
   "mimetype": "text/x-python",
   "name": "python",
   "nbconvert_exporter": "python",
   "pygments_lexer": "ipython3",
   "version": "3.9.7"
  },
  "orig_nbformat": 4
 },
 "nbformat": 4,
 "nbformat_minor": 2
}
