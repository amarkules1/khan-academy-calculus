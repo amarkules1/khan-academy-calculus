{
 "cells": [
  {
   "cell_type": "code",
   "execution_count": null,
   "metadata": {},
   "outputs": [],
   "source": []
  },
  {
   "cell_type": "markdown",
   "metadata": {},
   "source": [
    "Riemann Sums are a way to approximate the area under a curve. The idea is to divide the area into small rectangles, calculate the area of each rectangle, and then sum them up. The more rectangles we use, the better the approximation."
   ]
  },
  {
   "cell_type": "markdown",
   "metadata": {},
   "source": [
    "Left Riemann Sum uses the left endpoint of each subinterval to calculate the height of the rectangle. The formula is:\n",
    "\n",
    "$$\\sum_{i=0}^{n-1} f(x_i) \\cdot \\Delta x$$\n",
    "\n",
    "where $f(x_i)$ is the value of the function at the left endpoint of the $i$-th subinterval, and $\\Delta x$ is the width of each subinterval."
   ]
  },
  {
   "cell_type": "markdown",
   "metadata": {},
   "source": [
    "Right Riemann Sum uses the right endpoint of each subinterval to calculate the height of the rectangle.\n",
    "\n",
    "Middle Riemann Sum uses the midpoint of each subinterval to calculate the height of the rectangle.\n",
    "\n",
    "Trapezoidal Riemann Sum uses the left and right endpoints of each subinterval to calculate the height of the trapezoid. The formula is:\n",
    "\n",
    "$$\\sum_{i=0}^{n-1} \\frac{f(x_i) + f(x_{i+1})}{2} \\cdot \\Delta x$$\n",
    "\n",
    "where $f(x_i)$ and $f(x_{i+1})$ are the values of the function at the left and right endpoints of the $i$-th subinterval, and $\\Delta x$ is the width of each subinterval."
   ]
  },
  {
   "cell_type": "markdown",
   "metadata": {},
   "source": [
    "Definition of an integral as the limit of a Riemann sum:\n",
    "\n",
    "$$\\int_{a}^{b} f(x) \\, dx = \\lim_{n \\to \\infty} \\sum_{i=1}^{n} f(a + (\\Delta x i)) \\cdot \\Delta x$$\n",
    "\n",
    "where $\\Delta x = \\frac{b-a}{n}$ and $x_i = a + i \\cdot \\Delta x$."
   ]
  },
  {
   "cell_type": "code",
   "execution_count": 2,
   "metadata": {},
   "outputs": [
    {
     "data": {
      "text/plain": [
       "318"
      ]
     },
     "execution_count": 2,
     "metadata": {},
     "output_type": "execute_result"
    },
    {
     "ename": "",
     "evalue": "",
     "output_type": "error",
     "traceback": [
      "\u001b[1;31mThe Kernel crashed while executing code in the the current cell or a previous cell. Please review the code in the cell(s) to identify a possible cause of the failure. Click <a href='https://aka.ms/vscodeJupyterKernelCrash'>here</a> for more info. View Jupyter <a href='command:jupyter.viewOutput'>log</a> for further details."
     ]
    }
   ],
   "source": [
    "6+58+254\n"
   ]
  },
  {
   "cell_type": "markdown",
   "metadata": {},
   "source": [
    "Fundemental theorem of calculus:\n",
    "\n",
    "$$\\int_{a}^{b} f(x) \\, dx = F(b) - F(a)$$\n",
    "\n",
    "where $F(x)$ is the antiderivative of $f(x)$, and $f(x)$ is continuous on $[a, b]$."
   ]
  },
  {
   "cell_type": "markdown",
   "metadata": {},
   "source": [
    "Reverse power rule:\n",
    "\n",
    "$$\\int x^n \\, dx = \\frac{x^{n+1}}{n+1} + C$$\n",
    "\n",
    "where $n \\neq -1$."
   ]
  },
  {
   "cell_type": "markdown",
   "metadata": {},
   "source": [
    "The indefinite integral of the sum of two functions is the sum of the indefinite integrals of the two functions:\n",
    "\n",
    "$$\\int (f(x) + g(x)) \\, dx = \\int f(x) \\, dx + \\int g(x) \\, dx$$\n",
    "\n",
    "The indefinite integral of a constant times a function is the constant times the indefinite integral of the function:\n",
    "\n",
    "$$\\int k \\cdot f(x) \\, dx = k \\cdot \\int f(x) \\, dx$$"
   ]
  },
  {
   "cell_type": "markdown",
   "metadata": {},
   "source": [
    "Antiderivative of $1/x$:\n",
    "\n",
    "$$\\int \\frac{1}{x} \\, dx = \\ln|x| + C$$\n",
    "\n",
    "where $C$ is the constant of integration."
   ]
  },
  {
   "cell_type": "markdown",
   "metadata": {},
   "source": [
    "Antiderivative of $e^x$:\n",
    "\n",
    "$$\\int e^x \\, dx = e^x + C$$\n",
    "\n",
    "where $C$ is the constant of integration."
   ]
  },
  {
   "cell_type": "markdown",
   "metadata": {},
   "source": [
    "Antiderivative of $\\sin(x)$:\n",
    "\n",
    "$$\\int \\sin(x) \\, dx = -\\cos(x) + C$$\n",
    "\n",
    "where $C$ is the constant of integration."
   ]
  },
  {
   "cell_type": "markdown",
   "metadata": {},
   "source": [
    "Anti-derivative of $\\cos(x)$:\n",
    "\n",
    "$$\\int \\cos(x) \\, dx = \\sin(x) + C$$\n",
    "\n",
    "where $C$ is the constant of integration."
   ]
  },
  {
   "cell_type": "markdown",
   "metadata": {},
   "source": [
    "U Substitution:\n",
    "\n",
    "$$\\int f(g(x)) \\cdot g'(x) \\, dx = \\int f(u) \\, du$$\n",
    "\n",
    "where $u = g(x)$ and $du = g'(x) \\, dx$."
   ]
  },
  {
   "cell_type": "markdown",
   "metadata": {},
   "source": [
    "Integration using Long Division:\n",
    "\n",
    "$$\\int \\frac{f(x)}{g(x)} \\, dx = \\int \\left( q(x) + \\frac{r(x)}{g(x)} \\right) \\, dx$$\n",
    "\n",
    "where $q(x)$ is the quotient and $r(x)$ is the remainder.\n",
    "\n",
    "This works when the degree of the numerator is greater than or equal to the degree of the denominator."
   ]
  },
  {
   "cell_type": "markdown",
   "metadata": {},
   "source": [
    "Integration by completing the square:\n",
    "\n",
    "Goal is to get the integral into the form:\n",
    "\n",
    "$\\int (1/(u^2 + 1)) du$\n",
    "\n",
    "$ (1/(u^2 + 1)) $ is the derivative of $arctan(u) + c$"
   ]
  },
  {
   "cell_type": "markdown",
   "metadata": {},
   "source": [
    "$\\int cos^3(x) dx $ \n",
    "\n",
    "=\n",
    "\n",
    "$\\int cos^2(x) * cos(x) dx $ \n",
    "\n",
    "=\n",
    "\n",
    "$\\int (1 - sin^2(x)) * cos(x) dx $ \n",
    "\n",
    "=\n",
    "\n",
    "$\\int cos(x) dx - \\int sin^2(x) * cos(x) dx$ \n",
    "\n",
    "=\n",
    "\n",
    "$\\int cos(x) dx - \\int u^2 du$ where $u = sin(x) $ and $du = cos(x)dx$\n",
    "\n",
    "= \n",
    "\n",
    "$sin(x) - \\frac{u^3}{3} + C $\n",
    "\n",
    "= \n",
    "\n",
    "$sin(x) - \\frac{sin^3(x)}{3} + C $\n",
    "\n"
   ]
  },
  {
   "cell_type": "markdown",
   "metadata": {},
   "source": [
    "$\\int sin^4(x)dx$\n",
    "\n",
    "Double angle identity:\n",
    "\n",
    "$sin^2(x) = \\frac{1}{2} (1 - cos(2x)) $\n",
    "\n",
    "So\n",
    "\n",
    "$\\int sin^4(x)dx = \\int (\\frac{1}{2} (1 - cos(2x)))^2 dx$\n",
    "\n",
    "=\n",
    "\n",
    "$\\frac{1}{4} \\int (1 - 2cos(2x) + cos^2(2x))dx$\n",
    "\n",
    "=\n",
    "\n",
    "$\\frac{1}{4} * (\\int 1 dx - 2 \\int cos(2x)dx + \\int cos^2(2x) dx) $\n",
    "\n",
    "$\\int 1 dx = x + c$\n",
    "\n",
    "$\\int cos(2x)dx = \\frac{1}{2} sin(2x) + c $\n",
    "\n",
    "$ \\int cos^2(2x) dx = ? $\n",
    "\n",
    "double angle identity #2: $cos^2(2x) = \\frac{1}{2}(1+cos(4x))$\n",
    "\n",
    "$ \\int cos^2(2x) dx = \\frac{1}{2}\\int(1+cos(4x))dx = \\frac{x}{2} + \\frac{sin(4x)}{8} +c $\n",
    "\n",
    "Put it all together:\n",
    "\n",
    "$\\int sin^4(x)dx = \\frac{3x}{8} - \\frac{sin(2x)}{4} + \\frac{sin(4x)}{32} + C$"
   ]
  },
  {
   "cell_type": "markdown",
   "metadata": {},
   "source": []
  }
 ],
 "metadata": {
  "kernelspec": {
   "display_name": "datascienv",
   "language": "python",
   "name": "python3"
  },
  "language_info": {
   "codemirror_mode": {
    "name": "ipython",
    "version": 3
   },
   "file_extension": ".py",
   "mimetype": "text/x-python",
   "name": "python",
   "nbconvert_exporter": "python",
   "pygments_lexer": "ipython3",
   "version": "3.9.7"
  },
  "orig_nbformat": 4
 },
 "nbformat": 4,
 "nbformat_minor": 2
}
