{
 "cells": [
  {
   "cell_type": "code",
   "execution_count": null,
   "metadata": {},
   "outputs": [],
   "source": []
  },
  {
   "cell_type": "markdown",
   "metadata": {},
   "source": [
    "The solution to a differential equation, such as:\n",
    "\n",
    "$$\\frac{dy}{dx} = f(x, y)$$\n",
    "\n",
    "is a function $y(x)$ that satisfies the equation. The solution is not unique, as it can be shifted by a constant. For example, if $y(x)$ is a solution, then $y(x) + C$ is also a solution for any constant $C$."
   ]
  },
  {
   "cell_type": "markdown",
   "metadata": {},
   "source": [
    "Separable differential equations are a special case where the y terms can be separated from the x terms. For example:\n",
    "\n",
    "$$\\frac{dy}{dx} = \\frac{x^2}{y}$$\n",
    "\n",
    "can be rewritten as:\n",
    "\n",
    "$$y \\, dy = x^2 \\, dx$$\n",
    "\n",
    "and then integrated:\n",
    "\n",
    "$$\\int y \\, dy = \\int x^2 \\, dx$$\n",
    "\n",
    "to get:\n",
    "\n",
    "$$\\frac{y^2}{2} = \\frac{x^3}{3} + C$$\n",
    "\n",
    "where $C$ is the constant of integration. This can be solved for $y$:\n",
    "\n",
    "$$y = \\sqrt{\\frac{2}{3} x^3 + 2C}$$\n",
    "\n",
    "This is the general solution to the differential equation. The constant $C$ can be determined by an initial condition, such as $y(0) = 1$.\n",
    "\n",
    "This problem is a separable differential equation. The solution is:\n",
    "\n",
    "$$y = \\sqrt{\\frac{2}{3} x^3 + 2}$$"
   ]
  },
  {
   "cell_type": "markdown",
   "metadata": {},
   "source": [
    "Exponential models and differential equations are common in biology. For example, the growth of a population can be modeled by the differential equation:\n",
    "\n",
    "$$\\frac{dP}{dt} = k P$$\n",
    "\n",
    "where $P$ is the population and $k$ is a constant. This equation can be solved by separation of variables:\n",
    "\n",
    "$$\\frac{dP}{P} = k \\, dt$$\n",
    "\n",
    "and then integrating:\n",
    "\n",
    "$$\\int \\frac{dP}{P} = \\int k \\, dt$$\n",
    "\n",
    "to get:\n",
    "\n",
    "$$\\ln P = k t + C$$\n",
    "\n",
    "where $C$ is the constant of integration. This can be solved for $P$:\n",
    "\n",
    "$$P = e^{k t + C} = e^{C} e^{k t} = A e^{k t}$$\n",
    "\n",
    "where $A = e^{C}$ is another constant. This is the general solution to the differential equation. The constant $A$ can be determined by an initial condition, such as $P(0) = P_0$. In this case, $A = P_0$."
   ]
  }
 ],
 "metadata": {
  "language_info": {
   "name": "python"
  },
  "orig_nbformat": 4
 },
 "nbformat": 4,
 "nbformat_minor": 2
}
