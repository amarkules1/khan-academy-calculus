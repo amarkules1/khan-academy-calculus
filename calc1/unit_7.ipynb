{
 "cells": [
  {
   "cell_type": "code",
   "execution_count": null,
   "metadata": {},
   "outputs": [],
   "source": []
  },
  {
   "cell_type": "markdown",
   "metadata": {},
   "source": [
    "The solution to a differential equation, such as:\n",
    "\n",
    "$$\\frac{dy}{dx} = f(x, y)$$\n",
    "\n",
    "is a function $y(x)$ that satisfies the equation. The solution is not unique, as it can be shifted by a constant. For example, if $y(x)$ is a solution, then $y(x) + C$ is also a solution for any constant $C$."
   ]
  }
 ],
 "metadata": {
  "language_info": {
   "name": "python"
  },
  "orig_nbformat": 4
 },
 "nbformat": 4,
 "nbformat_minor": 2
}
