{
 "cells": [
  {
   "cell_type": "code",
   "execution_count": null,
   "metadata": {},
   "outputs": [],
   "source": []
  },
  {
   "cell_type": "markdown",
   "metadata": {},
   "source": [
    "Average value of a function over a closed interval can be calculated by integrating the function over the interval and dividing by the length of the interval. In this problem, we are given a function f(x) and an interval [a, b]. We need to calculate the average value of the function over the interval.\n",
    "\n",
    "The average value of a function f(x) over the interval [a, b] is given by the formula:\n",
    "\n",
    "$$\\frac{1}{b-a} \\int_{a}^{b} f(x) dx$$"
   ]
  },
  {
   "cell_type": "markdown",
   "metadata": {},
   "source": [
    "Given the function $ y = e^{-x} $\n",
    "\n",
    "And a solid whose cross sections perpendicular to the x-axis are semicircles with diameters on the x-axis from x = 0 to x = 1.\n",
    "\n",
    "The radius of the semicircle at x is $ r = \\frac{1}{2} f(x) = \\frac{1}{2} e^{-x} $\n",
    "\n",
    "The area of the semicircle at x is $ A = \\frac{1}{2} \\pi r^2 = \\frac{1}{2} \\pi (\\frac{1}{2} e^{-x})^2 = \\frac{1}{8} \\pi e^{-2x} $"
   ]
  },
  {
   "cell_type": "code",
   "execution_count": 20,
   "metadata": {},
   "outputs": [
    {
     "data": {
      "text/plain": [
       "57.45833333333334"
      ]
     },
     "execution_count": 20,
     "metadata": {},
     "output_type": "execute_result"
    }
   ],
   "source": [
    "\n",
    "from scipy.integrate import quad\n",
    "import numpy as np\n",
    "import math\n",
    "\n",
    "def integrand1(x):\n",
    "    f = (0.5 * (x**3)) - (2 * x) + 3\n",
    "    g = x**2 + ((7*x)/2) - 3\n",
    "    return f \n",
    "\n",
    "def integrand2(x):\n",
    "    f = (0.5 * (x**3)) - (2 * x) + 3\n",
    "    g = x**2 + ((7*x)/2) - 3\n",
    "    return g\n",
    "\n",
    "quad(integrand1, -3,4)[0] + quad(integrand2, -3, 4)[0]"
   ]
  },
  {
   "cell_type": "markdown",
   "metadata": {},
   "source": [
    "Washer Method:\n",
    "\n",
    "The volume of the solid can be calculated using the washer method. The volume of the solid is given by the formula:\n",
    "\n",
    "$$ V = \\int_{a}^{b} \\pi (R^2 - r^2) dx $$\n",
    "\n",
    "Where R is the outer radius and r is the inner radius."
   ]
  },
  {
   "cell_type": "code",
   "execution_count": 11,
   "metadata": {},
   "outputs": [
    {
     "data": {
      "text/plain": [
       "2.9999999999999982"
      ]
     },
     "execution_count": 11,
     "metadata": {},
     "output_type": "execute_result"
    }
   ],
   "source": [
    "math.tan(math.pi/3) **2"
   ]
  }
 ],
 "metadata": {
  "kernelspec": {
   "display_name": "datascienv",
   "language": "python",
   "name": "python3"
  },
  "language_info": {
   "codemirror_mode": {
    "name": "ipython",
    "version": 3
   },
   "file_extension": ".py",
   "mimetype": "text/x-python",
   "name": "python",
   "nbconvert_exporter": "python",
   "pygments_lexer": "ipython3",
   "version": "3.9.7"
  },
  "orig_nbformat": 4
 },
 "nbformat": 4,
 "nbformat_minor": 2
}
