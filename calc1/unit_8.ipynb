{
 "cells": [
  {
   "cell_type": "code",
   "execution_count": null,
   "metadata": {},
   "outputs": [],
   "source": []
  },
  {
   "cell_type": "markdown",
   "metadata": {},
   "source": [
    "Average value of a function over a closed interval can be calculated by integrating the function over the interval and dividing by the length of the interval. In this problem, we are given a function f(x) and an interval [a, b]. We need to calculate the average value of the function over the interval.\n",
    "\n",
    "The average value of a function f(x) over the interval [a, b] is given by the formula:\n",
    "\n",
    "$$\\frac{1}{b-a} \\int_{a}^{b} f(x) dx$$"
   ]
  }
 ],
 "metadata": {
  "language_info": {
   "name": "python"
  },
  "orig_nbformat": 4
 },
 "nbformat": 4,
 "nbformat_minor": 2
}
