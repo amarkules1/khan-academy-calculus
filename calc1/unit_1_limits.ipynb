{
 "cells": [
  {
   "cell_type": "markdown",
   "metadata": {},
   "source": [
    "Just an intro on limits:\n",
    "* Defining what a limit is by example\n",
    "* Doesn't matter what the actual value is, just what it approaches from both sides\n",
    "* If both sides dont agree, the limit does not exist\n",
    "* if the limit tends toward infinity from both sides, it is unbounded (essentially does not exist)\n",
    "* limit from the right and left must be equal ffor the limit to exist"
   ]
  },
  {
   "cell_type": "markdown",
   "metadata": {},
   "source": [
    "Limit properties:\n",
    "* Sum or difference of limits is the limit of the sum\n",
    "* $\\lim_{x \\to c} (f(x) + g(x)) = \\lim_{x \\to c} f(x) + \\lim_{x \\to c} g(x)$\n",
    "* $\\lim_{x \\to c} (f(x) - g(x)) = \\lim_{x \\to c} f(x) - \\lim_{x \\to c} g(x)$"
   ]
  },
  {
   "cell_type": "markdown",
   "metadata": {},
   "source": [
    "Limit properties:\n",
    "* product or quotient of limits is the limit of the products\n",
    "* $\\lim_{x \\to c} (f(x) * g(x)) = \\lim_{x \\to c} f(x) * \\lim_{x \\to c} g(x)$\n",
    "* $\\lim_{x \\to c} (f(x) / g(x)) = \\lim_{x \\to c} f(x) / \\lim_{x \\to c} g(x)$"
   ]
  },
  {
   "cell_type": "markdown",
   "metadata": {},
   "source": [
    "The limit of the sum of functions can still exist even if the limits of the component funtions do not, as long as the left and right differences cancel out (same goes for products, etc.)"
   ]
  },
  {
   "cell_type": "markdown",
   "metadata": {},
   "source": [
    "Limits of composite functions:\n",
    "* $\\lim_{x \\to c} (f(g(x))) = f(\\lim_{x \\to c} (g(x)))$\n",
    "* $\\lim_{x \\to c} (g(x))$ must exist for this to be true\n",
    "* f(a) must exist for this to be true\n",
    "* If those conditions are not met, the limit may still exist\n",
    "* EX: if f has a discontinuity at a, but $\\lim_{x \\to a}(f(x))$ exists\n",
    "* EX: if $\\lim_{x \\to c}(g(x))$ does not exist, but $f(\\lim_{x \\to c^-}(g(x))) = f(\\lim_{x \\to c^+}(g(x)))$\n",
    "* If the inner function has a local max/min at c, you only need to take the limit of the outer function from one side - usefull when there's a discontinuity in the outer function at the local max/min of the inner"
   ]
  },
  {
   "cell_type": "markdown",
   "metadata": {},
   "source": [
    "Limits by Direct Substitution:\n",
    "* $f$ is continuous at a if $\\lim_{x \\to a}(f(x)) = f(a)$"
   ]
  },
  {
   "cell_type": "markdown",
   "metadata": {},
   "source": [
    "Limits of Trigonometric Functions:\n",
    "* $\\lim_{x \\to \\pi} sin(x) = 0$, sin and cos are continuous everywhere\n",
    "* $\\lim_{x \\to \\pi} tan(x) = \\lim_{x \\to \\pi}\\frac{sin(x)}{cos(x)}$\n",
    "* $\\lim_{x \\to \\frac{\\pi}{2}} tan(x) $ does not exist\n",
    "\n",
    "Basic trig stuff I've forgotten:\n",
    "* $tan(x) = \\frac{sin(x)}{cos(x)}$\n",
    "* $sec(x) = \\frac{1}{cos(x)}$\n",
    "* $csc(x) = \\frac{1}{sin(x)}$\n",
    "* $cot(x) = \\frac{1}{tan(x)} = \\frac{cos(x)}{sin(x)}$\n",
    "* $sin^2(x) + cos^2(x) = 1$"
   ]
  },
  {
   "cell_type": "markdown",
   "metadata": {},
   "source": [
    "EX: $f(x) = \\frac{x^2 + x - 6}{x - 2}$, find $\\lim_{x \\to 2} f(x)$\n",
    "\n",
    "$f(2)$ is undefined, but $f(x) = \\frac{x^2 + x - 6}{x - 2} = \\frac{(x+3)(x-2)}{x-2}$. cancel out the x-2 terms and $f(x) = x + 3$ for x != 2. $\\lim_{x \\to 2} f(x) = 5$"
   ]
  },
  {
   "cell_type": "code",
   "execution_count": null,
   "metadata": {
    "vscode": {
     "languageId": "plaintext"
    }
   },
   "outputs": [],
   "source": []
  }
 ],
 "metadata": {
  "language_info": {
   "name": "python"
  },
  "orig_nbformat": 4
 },
 "nbformat": 4,
 "nbformat_minor": 2
}
