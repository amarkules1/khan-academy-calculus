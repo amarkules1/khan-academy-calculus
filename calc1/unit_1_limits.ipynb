{
 "cells": [
  {
   "cell_type": "markdown",
   "metadata": {},
   "source": [
    "Just an intro on limits:\n",
    "* Defining what a limit is by example\n",
    "* Doesn't matter what the actual value is, just what it approaches from both sides\n",
    "* If both sides dont agree, the limit does not exist\n",
    "* if the limit tends toward infinity from both sides, it is unbounded (essentially does not exist)\n",
    "* limit from the right and left must be equal ffor the limit to exist"
   ]
  },
  {
   "cell_type": "markdown",
   "metadata": {},
   "source": [
    "Limit properties:\n",
    "* Sum or difference of limits is the limit of the sum\n",
    "* $\\lim_{x \\to c} (f(x) + g(x)) = \\lim_{x \\to c} f(x) + \\lim_{x \\to c} g(x)$\n",
    "* $\\lim_{x \\to c} (f(x) - g(x)) = \\lim_{x \\to c} f(x) - \\lim_{x \\to c} g(x)$"
   ]
  },
  {
   "cell_type": "markdown",
   "metadata": {},
   "source": [
    "Limit properties:\n",
    "* product or quotient of limits is the limit of the products\n",
    "* $\\lim_{x \\to c} (f(x) * g(x)) = \\lim_{x \\to c} f(x) * \\lim_{x \\to c} g(x)$\n",
    "* $\\lim_{x \\to c} (f(x) / g(x)) = \\lim_{x \\to c} f(x) / \\lim_{x \\to c} g(x)$"
   ]
  },
  {
   "cell_type": "markdown",
   "metadata": {},
   "source": [
    "The limit of the sum of functions can still exist even if the limits of the component funtions do not, as long as the left and right differences cancel out (same goes for products, etc.)"
   ]
  },
  {
   "cell_type": "markdown",
   "metadata": {},
   "source": [
    "Limits of composite functions:\n",
    "* $\\lim_{x \\to c} (f(g(x))) = f(\\lim_{x \\to c} (g(x)))$\n",
    "* $\\lim_{x \\to c} (g(x))$ must exist for this to be true\n",
    "* f(a) must exist for this to be true\n",
    "* If those conditions are not met, the limit may still exist\n",
    "* EX: if f has a discontinuity at a, but $\\lim_{x \\to a}(f(x))$ exists\n",
    "* EX: if $\\lim_{x \\to c}(g(x))$ does not exist, but $f(\\lim_{x \\to c^-}(g(x))) = f(\\lim_{x \\to c^+}(g(x)))$\n",
    "* If the inner function has a local max/min at c, you only need to take the limit of the outer function from one side - usefull when there's a discontinuity in the outer function at the local max/min of the inner"
   ]
  },
  {
   "cell_type": "markdown",
   "metadata": {},
   "source": [
    "Limits by Direct Substitution:\n",
    "* $f$ is continuous at a if $\\lim_{x \\to a}(f(x)) = f(a)$"
   ]
  },
  {
   "cell_type": "markdown",
   "metadata": {},
   "source": [
    "Limits of Trigonometric Functions:\n",
    "* $\\lim_{x \\to \\pi} sin(x) = 0$, sin and cos are continuous everywhere\n",
    "* $\\lim_{x \\to \\pi} tan(x) = \\lim_{x \\to \\pi}\\frac{sin(x)}{cos(x)}$\n",
    "* $\\lim_{x \\to \\frac{\\pi}{2}} tan(x) $ does not exist\n",
    "\n",
    "Basic trig stuff I've forgotten:\n",
    "* $tan(x) = \\frac{sin(x)}{cos(x)}$\n",
    "* $sec(x) = \\frac{1}{cos(x)}$\n",
    "* $csc(x) = \\frac{1}{sin(x)}$\n",
    "* $cot(x) = \\frac{1}{tan(x)} = \\frac{cos(x)}{sin(x)}$\n",
    "* $sin^2(x) + cos^2(x) = 1$\n",
    "* $cos(2x) = cos^2(x) - sin^2(x) = 2cos^2(x) - 1 = 1 - 2sin^2(x)$"
   ]
  },
  {
   "cell_type": "markdown",
   "metadata": {},
   "source": [
    "EX: $f(x) = \\frac{x^2 + x - 6}{x - 2}$, find $\\lim_{x \\to 2} f(x)$\n",
    "\n",
    "$f(2)$ is undefined, but $f(x) = \\frac{x^2 + x - 6}{x - 2} = \\frac{(x+3)(x-2)}{x-2}$. cancel out the x-2 terms and $f(x) = x + 3$ for x != 2. $\\lim_{x \\to 2} f(x) = 5$"
   ]
  },
  {
   "cell_type": "markdown",
   "metadata": {},
   "source": [
    "Limits by rationalizing\n",
    "If you have a sqare root in the function you're taking a limit of. use the folowing algebraic identities to help simplify:\n",
    "* $(a + b)(a - b) = a^2 - b^2$\n",
    "* $(\\sqrt{a} + b)(\\sqrt{a} - b) = a - b^2$"
   ]
  },
  {
   "cell_type": "code",
   "execution_count": 1,
   "metadata": {},
   "outputs": [
    {
     "name": "stdout",
     "output_type": "stream",
     "text": [
      "3.9996000133326723\n"
     ]
    }
   ],
   "source": [
    "# kinda cheating, using python to approximate limits instead of trig identities. but its so tedious to do the math\n",
    "import math\n",
    "x = math.pi/2 + 0.01\n",
    "print((math.sin(2 * x) ** 2)/(1 - (math.sin(x)**2)))\n"
   ]
  },
  {
   "cell_type": "code",
   "execution_count": 3,
   "metadata": {},
   "outputs": [
    {
     "name": "stdout",
     "output_type": "stream",
     "text": [
      "0.500025001041709\n"
     ]
    }
   ],
   "source": [
    "import math\n",
    "x = 0.01\n",
    "print(math.sin(x)/math.sin(2*x))\n"
   ]
  },
  {
   "cell_type": "code",
   "execution_count": 4,
   "metadata": {},
   "outputs": [
    {
     "name": "stdout",
     "output_type": "stream",
     "text": [
      "2.9999250006241014\n"
     ]
    },
    {
     "ename": "",
     "evalue": "",
     "output_type": "error",
     "traceback": [
      "\u001b[1;31mThe Kernel crashed while executing code in the the current cell or a previous cell. Please review the code in the cell(s) to identify a possible cause of the failure. Click <a href='https://aka.ms/vscodeJupyterKernelCrash'>here</a> for more info. View Jupyter <a href='command:jupyter.viewOutput'>log</a> for further details."
     ]
    }
   ],
   "source": [
    "import math\n",
    "x = math.pi/2 + 0.01\n",
    "numerator = 3 * (math.cos(x) ** 2)\n",
    "denominator = 2 - (2 * math.sin(x))\n",
    "print(numerator/denominator)"
   ]
  },
  {
   "cell_type": "markdown",
   "metadata": {},
   "source": [
    "Squeeze Theorem:\n",
    "* If $f(x) \\leq g(x) \\leq h(x)$ for all x in some open interval containing c, except possibly at c itself, and $\\lim_{x \\to c} f(x) = \\lim_{x \\to c} h(x) = L$, then $\\lim_{x \\to c} g(x) = L$\n",
    "* this is useful for limits like like $\\lim_{x \\to 0}\\frac{sin(x)}{x}$ where the limit is not obvious but there are functions (parabolas) that bound it"
   ]
  },
  {
   "cell_type": "code",
   "execution_count": 2,
   "metadata": {},
   "outputs": [
    {
     "name": "stdout",
     "output_type": "stream",
     "text": [
      "0.9999000033354729\n"
     ]
    },
    {
     "ename": "",
     "evalue": "",
     "output_type": "error",
     "traceback": [
      "\u001b[1;31mThe Kernel crashed while executing code in the the current cell or a previous cell. Please review the code in the cell(s) to identify a possible cause of the failure. Click <a href='https://aka.ms/vscodeJupyterKernelCrash'>here</a> for more info. View Jupyter <a href='command:jupyter.viewOutput'>log</a> for further details."
     ]
    }
   ],
   "source": [
    "import math\n",
    "x = math.pi + 0.01\n",
    "print((math.sin(x) * math.sin(x)) / (((1/math.cos(x)) * (1/math.cos(x))) - 1))"
   ]
  },
  {
   "cell_type": "code",
   "execution_count": 1,
   "metadata": {},
   "outputs": [
    {
     "data": {
      "text/plain": [
       "0.49999999999999994"
      ]
     },
     "execution_count": 1,
     "metadata": {},
     "output_type": "execute_result"
    }
   ],
   "source": [
    "import math\n",
    "math.sin(math.pi/6)"
   ]
  }
 ],
 "metadata": {
  "kernelspec": {
   "display_name": "Python 3",
   "language": "python",
   "name": "python3"
  },
  "language_info": {
   "codemirror_mode": {
    "name": "ipython",
    "version": 3
   },
   "file_extension": ".py",
   "mimetype": "text/x-python",
   "name": "python",
   "nbconvert_exporter": "python",
   "pygments_lexer": "ipython3",
   "version": "3.9.7"
  },
  "orig_nbformat": 4
 },
 "nbformat": 4,
 "nbformat_minor": 2
}
