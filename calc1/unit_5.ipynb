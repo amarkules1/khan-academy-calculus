{
 "cells": [
  {
   "cell_type": "markdown",
   "metadata": {},
   "source": [
    "# Mean Value Theorem\n",
    "\n",
    "Given a function $f(x)$ that is continuous on the closed interval $[a,b]$ and differentiable on the open interval $(a,b)$, then there exists a point $c$ in $(a,b)$ such that\n",
    "the average rate of change of $f(x)$ on $[a,b]$ is equal to the instantaneous rate of change of $f(x)$ at $c$."
   ]
  },
  {
   "cell_type": "markdown",
   "metadata": {},
   "source": [
    "# Extreme Value Theorem\n",
    "\n",
    "Given a function $f(x)$ that is continuous on the closed interval $[a,b]$, then $f(x)$ has both a maximum and a minimum value on $[a,b]$.\n",
    "In other words, there exists a point $c$ in $[a,b]$ such that $f(c)$ is the maximum value of $f(x)$ on $[a,b]$ and there exists a point $d$ in $[a,b]$ such that $f(d)$ is the minimum value of $f(x)$ on $[a,b]$, and $f(c) \\geq f(x) \\geq f(d)$ for all $x$ in $[a,b]$."
   ]
  },
  {
   "cell_type": "markdown",
   "metadata": {},
   "source": [
    "# Crirical Points\n",
    "\n",
    "Given a function $f(x)$ that is continuous on the closed interval $[a,b]$ and differentiable on the open interval $(a,b)$, then a critical point of $f(x)$ is a point $c$ in $(a,b)$ such that $f'(c) = 0$ or $f'(c)$ does not exist."
   ]
  },
  {
   "cell_type": "code",
   "execution_count": null,
   "metadata": {},
   "outputs": [],
   "source": []
  }
 ],
 "metadata": {
  "language_info": {
   "name": "python"
  },
  "orig_nbformat": 4
 },
 "nbformat": 4,
 "nbformat_minor": 2
}
