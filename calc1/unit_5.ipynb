{
 "cells": [
  {
   "cell_type": "markdown",
   "metadata": {},
   "source": [
    "# Mean Value Theorem\n",
    "\n",
    "Given a function $f(x)$ that is continuous on the closed interval $[a,b]$ and differentiable on the open interval $(a,b)$, then there exists a point $c$ in $(a,b)$ such that\n",
    "the average rate of change of $f(x)$ on $[a,b]$ is equal to the instantaneous rate of change of $f(x)$ at $c$."
   ]
  },
  {
   "cell_type": "markdown",
   "metadata": {},
   "source": [
    "# Extreme Value Theorem\n",
    "\n",
    "Given a function $f(x)$ that is continuous on the closed interval $[a,b]$, then $f(x)$ has both a maximum and a minimum value on $[a,b]$.\n",
    "In other words, there exists a point $c$ in $[a,b]$ such that $f(c)$ is the maximum value of $f(x)$ on $[a,b]$ and there exists a point $d$ in $[a,b]$ such that $f(d)$ is the minimum value of $f(x)$ on $[a,b]$, and $f(c) \\geq f(x) \\geq f(d)$ for all $x$ in $[a,b]$."
   ]
  },
  {
   "cell_type": "markdown",
   "metadata": {},
   "source": [
    "# Crirical Points\n",
    "\n",
    "Given a function $f(x)$ that is continuous on the closed interval $[a,b]$ and differentiable on the open interval $(a,b)$, then a critical point of $f(x)$ is a point $c$ in $(a,b)$ such that $f'(c) = 0$ or $f'(c)$ does not exist.\n",
    "\n",
    "**Note**: if $f'(c)$ doesn't exist, it is not sufficient to make that a critical point. The value of $f(c)$ must be defined at that point."
   ]
  }
 ],
 "metadata": {
  "kernelspec": {
   "display_name": "datascienv",
   "language": "python",
   "name": "python3"
  },
  "language_info": {
   "codemirror_mode": {
    "name": "ipython",
    "version": 3
   },
   "file_extension": ".py",
   "mimetype": "text/x-python",
   "name": "python",
   "nbconvert_exporter": "python",
   "pygments_lexer": "ipython3",
   "version": "3.9.7"
  },
  "orig_nbformat": 4
 },
 "nbformat": 4,
 "nbformat_minor": 2
}
