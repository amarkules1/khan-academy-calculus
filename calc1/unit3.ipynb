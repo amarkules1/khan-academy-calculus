{
 "cells": [
  {
   "cell_type": "markdown",
   "metadata": {},
   "source": [
    "Chain Rule:\n",
    "$ \\frac{d}{dx} f(g(x)) = f'(g(x))g'(x) $"
   ]
  },
  {
   "cell_type": "markdown",
   "metadata": {},
   "source": [
    "$ \\frac{d}{dx} a^x = a^x \\ln a $"
   ]
  },
  {
   "cell_type": "markdown",
   "metadata": {},
   "source": [
    "$ \\frac{d}{dx} \\log_a x = \\frac{1}{x \\ln a} $"
   ]
  },
  {
   "cell_type": "markdown",
   "metadata": {},
   "source": [
    "Implicit differentiation:\n",
    "    1. Find the derivative of both sides of the equation with respect to x.\n",
    "    2. Solve the resulting equation for y'.\n",
    "    3. Substitute the value of y' into the equation.\n",
    "    \n",
    "when taking the derivative of y, we must use the chain rule."
   ]
  },
  {
   "cell_type": "code",
   "execution_count": null,
   "metadata": {},
   "outputs": [],
   "source": []
  }
 ],
 "metadata": {
  "language_info": {
   "name": "python"
  },
  "orig_nbformat": 4
 },
 "nbformat": 4,
 "nbformat_minor": 2
}
