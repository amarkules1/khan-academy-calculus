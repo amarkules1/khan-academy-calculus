{
 "cells": [
  {
   "cell_type": "markdown",
   "metadata": {},
   "source": [
    "Chain Rule:\n",
    "$ \\frac{d}{dx} f(g(x)) = f'(g(x))g'(x) $"
   ]
  },
  {
   "cell_type": "markdown",
   "metadata": {},
   "source": [
    "$ \\frac{d}{dx} a^x = a^x \\ln a $"
   ]
  },
  {
   "cell_type": "markdown",
   "metadata": {},
   "source": [
    "$ \\frac{d}{dx} \\log_a x = \\frac{1}{x \\ln a} $"
   ]
  },
  {
   "cell_type": "markdown",
   "metadata": {},
   "source": [
    "Implicit differentiation:\n",
    "    1. Find the derivative of both sides of the equation with respect to x.\n",
    "    2. Solve the resulting equation for y'.\n",
    "    3. Substitute the value of y' into the equation.\n",
    "    \n",
    "when taking the derivative of y, we must use the chain rule."
   ]
  },
  {
   "cell_type": "markdown",
   "metadata": {},
   "source": [
    "Or another way, we're taking the derivative of a y term with respect to x, eg. $\\frac{d}{dx} y^2$.\n",
    "\n",
    "We can multiply by $\\frac{dy}{dy}$ to make things easier, since it's essentially 1.\n",
    "\n",
    "$\\frac{d}{dx} [y^2] = \\frac{d [y^2]}{dy} \\frac{dy}{dx} = 2y \\frac{dy}{dx}$"
   ]
  },
  {
   "cell_type": "markdown",
   "metadata": {},
   "source": [
    "Given 2 functions $f(x)$ and $h(x)$, where $h(x)$ is the inverse of $f(x)$, then $$h'(x) = \\frac{1}{f'(h(x))}$$"
   ]
  },
  {
   "cell_type": "markdown",
   "metadata": {},
   "source": [
    "Derivative of the inverse sine function:\n",
    "$$\\frac{d}{dx} \\sin^{-1} x = \\frac{1}{\\sqrt{1-x^2}}$$\n",
    "\n",
    "Derivative of the inverse cosine function:\n",
    "$$\\frac{d}{dx} \\cos^{-1} x = -\\frac{1}{\\sqrt{1-x^2}}$$\n",
    "\n",
    "Derivative of the inverse tangent function:\n",
    "$$\\frac{d}{dx} \\tan^{-1} x = \\frac{1}{1+x^2}$$"
   ]
  },
  {
   "cell_type": "markdown",
   "metadata": {},
   "source": []
  },
  {
   "cell_type": "code",
   "execution_count": null,
   "metadata": {},
   "outputs": [],
   "source": []
  }
 ],
 "metadata": {
  "language_info": {
   "name": "python"
  },
  "orig_nbformat": 4
 },
 "nbformat": 4,
 "nbformat_minor": 2
}
