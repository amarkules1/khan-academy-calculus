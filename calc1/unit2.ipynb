{
 "cells": [
  {
   "cell_type": "code",
   "execution_count": null,
   "metadata": {},
   "outputs": [],
   "source": []
  },
  {
   "cell_type": "markdown",
   "metadata": {},
   "source": [
    "derivative of a function $f(x)$ at $x=a$ is defined as $$f'(a) = \\lim_{h\\to 0} \\frac{f(a+h)-f(a)}{h}$$"
   ]
  },
  {
   "cell_type": "markdown",
   "metadata": {},
   "source": [
    "similarly, the general derivative of a function $f(x)$ is defined as $$f'(x) = \\lim_{h\\to 0} \\frac{f(x+h)-f(x)}{h}$$"
   ]
  },
  {
   "cell_type": "markdown",
   "metadata": {},
   "source": [
    "for the functon $f(x) = x^2$, we have $$f'(x) = \\lim_{h\\to 0} \\frac{(x+h)^2-x^2}{h} = \\lim_{h\\to 0} \\frac{x^2+2xh+h^2-x^2}{h} = \\lim_{h\\to 0} \\frac{2xh+h^2}{h} = \\lim_{h\\to 0} 2x+h = 2x$$"
   ]
  },
  {
   "cell_type": "markdown",
   "metadata": {},
   "source": [
    "A function f(x) is not differentiable at a point c if:\n",
    "* f(c) is not defined\n",
    "* f(x) is not continuous at c\n",
    "* limit of f'(x) as x approaches c from the left is not equal to the limit of f'(x) as x approaches c from the right"
   ]
  },
  {
   "cell_type": "markdown",
   "metadata": {},
   "source": [
    "Power Rule: $\\frac{d}{dx}x^n = nx^{n-1}$"
   ]
  },
  {
   "cell_type": "markdown",
   "metadata": {},
   "source": [
    "$\\frac{d}{dx}Af(x) = A\\frac{d}{dx}f(x)$"
   ]
  },
  {
   "cell_type": "markdown",
   "metadata": {},
   "source": [
    "$\\frac{d}{dx}(f(x) + g(x)) = \\frac{d}{dx}f(x) + \\frac{d}{dx}g(x)$"
   ]
  },
  {
   "cell_type": "markdown",
   "metadata": {},
   "source": [
    "$\\frac{d}{dx}(sin(x)) = cos(x)$\n",
    "\n",
    "$\\frac{d}{dx}(cos(x)) = -sin(x)$\n",
    "\n",
    "$\\frac{d}{dx}(tan(x)) = sec^2(x)$\n",
    "\n",
    "$\\frac{d}{dx}(sec(x)) = sec(x)tan(x)$\n",
    "\n",
    "$\\frac{d}{dx}(csc(x)) = -csc(x)cot(x)$\n",
    "\n",
    "$\\frac{d}{dx}(cot(x)) = -csc^2(x)$\n",
    "\n",
    "$\\frac{d}{dx}(e^x) = e^x$\n",
    "\n",
    "$\\frac{d}{dx}(ln(x)) = \\frac{1}{x}$"
   ]
  },
  {
   "cell_type": "markdown",
   "metadata": {},
   "source": [
    "Product Rule: $\\frac{d}{dx}f(x)g(x) = f(x)\\frac{d}{dx}g(x) + g(x)\\frac{d}{dx}f(x)$"
   ]
  },
  {
   "cell_type": "markdown",
   "metadata": {},
   "source": [
    "Quotient Rule: $\\frac{d}{dx}\\frac{f(x)}{g(x)} = \\frac{g(x)\\frac{d}{dx}f(x) - f(x)\\frac{d}{dx}g(x)}{g(x)^2}$\n",
    "\n",
    "\"Low d high minus high d low all over low squared.\" - Fred Reusch"
   ]
  }
 ],
 "metadata": {
  "kernelspec": {
   "display_name": "datascienv",
   "language": "python",
   "name": "python3"
  },
  "language_info": {
   "codemirror_mode": {
    "name": "ipython",
    "version": 3
   },
   "file_extension": ".py",
   "mimetype": "text/x-python",
   "name": "python",
   "nbconvert_exporter": "python",
   "pygments_lexer": "ipython3",
   "version": "3.9.7"
  },
  "orig_nbformat": 4
 },
 "nbformat": 4,
 "nbformat_minor": 2
}
