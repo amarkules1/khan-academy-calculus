{
 "cells": [
  {
   "cell_type": "code",
   "execution_count": null,
   "metadata": {},
   "outputs": [],
   "source": []
  },
  {
   "cell_type": "markdown",
   "metadata": {},
   "source": [
    "# Mixed Strategies\n",
    "\n",
    "Example: UN setting up checkpoints to defend against terrorist attacks in somalia\n",
    "UN is checking cars that pass through a set of roads\n",
    "UN can't check all the roads at the same time, and attackers can pick any road to attack\n",
    "If UN has a predictable strategy, the attackers will learn the strategy and avoid roads currently under watch\n",
    "UN needs to pick a randomized strategy"
   ]
  },
  {
   "cell_type": "markdown",
   "metadata": {},
   "source": [
    "Matching pennies, where one player wants to match and the other does not, is another game where the players do not want to use a deterministic strategy\n",
    "It makes sense for players to confuse eachother by picking randomly"
   ]
  },
  {
   "cell_type": "markdown",
   "metadata": {},
   "source": [
    "Define a strategy, $s_i$ for agent $i$ as any probability distribution over the actions $A_i$.\n",
    "\n",
    "A **pure strategy** is the special case where one action has a probability of 1 and all others have a probability of 0.\n",
    "\n",
    "A **mixed strategy** is when more than one action has a positive probability of being played\n",
    "\n",
    "the **support** of a mixed strategy is the set of all actions with positive probabilities under that strategy\n",
    "\n",
    "The set of all strategies for agent $i$ is $S_i$\n",
    "\n",
    "The set of all strategy profiles for all agents is $S = S_1 \\times S_2 \\times ... \\times S_n$"
   ]
  },
  {
   "cell_type": "markdown",
   "metadata": {},
   "source": [
    "## Calculating payoff for mixed strategies\n",
    "\n",
    "Since we can only calculate payoff/utility for a definite action profile, we can't just look up the value in an action matrix\n",
    "\n",
    "Instead we can use the expected utility  idea from decision theory\n",
    "\n",
    "$$u_i(s_1, s_2, ..., s_n) = \\sum_{a \\in A} u_i(a) \\prod_{j=1}^n s_j(a_j)$$\n",
    "\n",
    "where $u_i$ is the expected utility, $s_1, s_2, ..., s_n$ are the strategies used by each player (simplified as $s$ when all players are using the same mixed strategy), $a$ is the action profile, $u_i(a)$ is the utility of player $i$ for action profile $a$, and $s_j(a_j)$ is the probability of player $j$ playing action $a_j$.\n",
    "\n",
    "essentially, we take each possible set of actions, calculate the expected utility for player $i$ for that set of actions, then multiply by the probability of that set of actions happening (the product of the probabilities for each player taking their action in that set). take the sum of all of these values to get the expected utility for player $i$"
   ]
  },
  {
   "cell_type": "markdown",
   "metadata": {},
   "source": [
    "# Best response for mixed strategies\n",
    "\n",
    "$s^*_i$ is a best response to $s_{-i}$ if $i$ gets the same or higher utility for playing $s^*_i$ than for any other strategy in $S_i$ (the set of all possible plays for player $i$), assuming all other players are playing $s_{-i}$\n",
    "\n",
    "$s^*_i \\in BR(s_{-i})$ iff $\\forall S_i, u_i(s^*_i, s_{-i}) \\geq u_i(s_i, s_{-i})$\n",
    "\n",
    "# Nash Equilibrium for mixed strategies\n",
    "\n",
    "a set of strategies $s$ is a Nash Equilibrium iff $\\forall i, s_i \\in BR(s_{-i})$"
   ]
  },
  {
   "cell_type": "markdown",
   "metadata": {},
   "source": [
    "**Theorem: Every finite game has a Nash Equilibrium in mixed strategies**\n",
    "\n",
    "a finite game is a game with a finite number of actions and a finite number of players - it can be written down completely\n",
    "\n",
    "this means that no matter what the game is, what they payoffs are, what situation it's modeling, there is always some stable strategy for all the players such that no player can improve their payoff by changing their strategy, even knowing what strategies the other players are using"
   ]
  },
  {
   "cell_type": "markdown",
   "metadata": {},
   "source": [
    "# Computing Nash Equilibria of a normal form game\n",
    "\n",
    "Example: Battle of the sexes:\n",
    "\n",
    "| Male/Female | Movie | Play  |\n",
    "| ----------- | ----- | ----- |\n",
    "| Movie       | 2,1   | 0,0   |\n",
    "| Play        | 0,0   | 1,2   |\n",
    "\n",
    "It's hard in general to find the Nash Equilibrium for a game,it's easy when you can guess the support (when the game is small)\n",
    "\n",
    "In BoS we can assume that all strategies have a positive probability, and are part of the support\n",
    "\n",
    "Let Female play movie with probability $p$ and play with probability $1-p$\n",
    "\n",
    "if male best responds with a mixed strategy, then female must make male indifferent between movie and play:\n",
    "\n",
    "$u_m(movie) = u_m(play)$\n",
    "\n",
    "$2p + 0(1-p) = 0p + 1(1-p)$ where $p$ is the probability female picks movie\n",
    "\n",
    "$p = 1/3$ when you solve the above\n",
    "\n",
    "similarly,\n",
    "\n",
    "$u_f(movie) = u_f(play)$\n",
    "\n",
    "$1q + 0(1-q) = 0p + 2(1-q)$ where $q$ is the probability male picks movie\n",
    "\n",
    "$q = 2/3$ when you solve the above\n",
    "\n",
    "So the Nash Equilibrium is $M:(2/3, 1/3), F:(1/3, 2/3)$\n",
    "\n",
    "if the result of solving the above equations is negative or above wrong then there is no Nash Equilibrium for the assumed support"
   ]
  },
  {
   "cell_type": "markdown",
   "metadata": {},
   "source": [
    "What does it mean to play a mixed strategy? could be:\n",
    "\n",
    "- Randomize to confuse the opponent (matching pennies)\n",
    "- Randomize when uncertain about the opponent's strategy (battle of the sexes)\n",
    "- Mixed strategies are a concise way to represent a set of pure strategies\n",
    "- mixed strategies can describe population dynamics. 2 agents chosen from a population, all have deterministic strategies, mixed strategies give the probability of each pure strategy being chosen in a population equilibrium"
   ]
  },
  {
   "cell_type": "markdown",
   "metadata": {},
   "source": [
    "Hardness beyond 2x2 games:\n",
    "\n",
    "Two examples algorithms for finding Nash Equilibria in general games:\n",
    "- Lemke-Howson algorithm or LCP (Linear Complementarity Problem) solver\n",
    "- Support enumeration method \n",
    "  - if you fix the support set, you can find the Nash Equilibrium by solving a linear system of equations\n",
    "  - That's not always the case, but you can use heuristics to guess the support set"
   ]
  }
 ],
 "metadata": {
  "language_info": {
   "name": "python"
  },
  "orig_nbformat": 4
 },
 "nbformat": 4,
 "nbformat_minor": 2
}
