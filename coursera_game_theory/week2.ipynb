{
 "cells": [
  {
   "cell_type": "code",
   "execution_count": null,
   "metadata": {},
   "outputs": [],
   "source": []
  },
  {
   "cell_type": "markdown",
   "metadata": {},
   "source": [
    "# Mixed Strategies\n",
    "\n",
    "Example: UN setting up checkpoints to defend against terrorist attacks in somalia\n",
    "UN is checking cars that pass through a set of roads\n",
    "UN can't check all the roads at the same time, and attackers can pick any road to attack\n",
    "If UN has a predictable strategy, the attackers will learn the strategy and avoid roads currently under watch\n",
    "UN needs to pick a randomized strategy"
   ]
  },
  {
   "cell_type": "markdown",
   "metadata": {},
   "source": [
    "Matching pennies, where one player wants to match and the other does not, is another game where the players do not want to use a deterministic strategy\n",
    "It makes sense for players to confuse eachother by picking randomly"
   ]
  },
  {
   "cell_type": "markdown",
   "metadata": {},
   "source": [
    "Define a strategy, $s_i$ for agent $i$ as any probability distribution over the actions $A_i$.\n",
    "\n",
    "A **pure strategy** is the special case where one action has a probability of 1 and all others have a probability of 0.\n",
    "\n",
    "A **mixed strategy** is when more than one action has a positive probability of being played\n",
    "\n",
    "the **support** of a mixed strategy is the set of all actions with positive probabilities under that strategy\n",
    "\n",
    "The set of all strategies for agent $i$ is $S_i$\n",
    "\n",
    "The set of all strategy profiles for all agents is $S = S_1 \\times S_2 \\times ... \\times S_n$"
   ]
  },
  {
   "cell_type": "markdown",
   "metadata": {},
   "source": [
    "## Calculating payoff for mixed strategies\n",
    "\n",
    "Since we can only calculate payoff/utility for a definite action profile, we can't just look up the value in an action matrix\n",
    "\n",
    "Instead we can use the expected utility  idea from decision theory\n",
    "\n",
    "$$u_i(s_1, s_2, ..., s_n) = \\sum_{a \\in A} u_i(a) \\prod_{j=1}^n s_j(a_j)$$\n",
    "\n",
    "where $u_i$ is the expected utility, $s_1, s_2, ..., s_n$ are the strategies used by each player (simplified as $s$ when all players are using the same mixed strategy), $a$ is the action profile, $u_i(a)$ is the utility of player $i$ for action profile $a$, and $s_j(a_j)$ is the probability of player $j$ playing action $a_j$.\n",
    "\n",
    "essentially, we take each possible set of actions, calculate the expected utility for player $i$ for that set of actions, then multiply by the probability of that set of actions happening (the product of the probabilities for each player taking their action in that set). take the sum of all of these values to get the expected utility for player $i$"
   ]
  },
  {
   "cell_type": "markdown",
   "metadata": {},
   "source": [
    "# Best response for mixed strategies\n",
    "\n",
    "$s^*_i$ is a best response to $s_{-i}$ if $i$ gets the same or higher utility for playing $s^*_i$ than for any other strategy in $S_i$ (the set of all possible plays for player $i$), assuming all other players are playing $s_{-i}$\n",
    "\n",
    "$s^*_i \\in BR(s_{-i})$ iff $\\forall S_i, u_i(s^*_i, s_{-i}) \\geq u_i(s_i, s_{-i})$\n",
    "\n",
    "# Nash Equilibrium for mixed strategies\n",
    "\n",
    "a set of strategies $s$ is a Nash Equilibrium iff $\\forall i, s_i \\in BR(s_{-i})$"
   ]
  },
  {
   "cell_type": "markdown",
   "metadata": {},
   "source": [
    "**Theorem: Every finite game has a Nash Equilibrium in mixed strategies**\n",
    "\n",
    "a finite game is a game with a finite number of actions and a finite number of players\n",
    "\n",
    "this means that no matter what the game is, what they payoffs are, what situation it's modeling, there is always some stable strategy for all the players such that no player can improve their payoff by changing their strategy, even knowing what strategies the other players are using"
   ]
  }
 ],
 "metadata": {
  "language_info": {
   "name": "python"
  },
  "orig_nbformat": 4
 },
 "nbformat": 4,
 "nbformat_minor": 2
}
