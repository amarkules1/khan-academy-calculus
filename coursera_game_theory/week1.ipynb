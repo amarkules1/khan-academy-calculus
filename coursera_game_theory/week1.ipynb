{
 "cells": [
  {
   "cell_type": "code",
   "execution_count": null,
   "metadata": {},
   "outputs": [],
   "source": []
  },
  {
   "cell_type": "markdown",
   "metadata": {},
   "source": [
    "Course Link: https://www.coursera.org/learn/game-theory-1"
   ]
  },
  {
   "cell_type": "markdown",
   "metadata": {},
   "source": [
    "Defining Games\n",
    "\n",
    "Players - individual decision makers in a game\n",
    "\n",
    "Actions - what can the players do\n",
    "\n",
    "Payoffs - what motivates the players (utility)\n",
    "\n",
    "2 standard forms of games\n",
    "\n",
    "1. Normal Form (Strategic Form) - matrix representation of a game, list what payoffs are as a function of actions taken by players\n",
    "   1. Players - 1, 2, ..., n, indexed by i\n",
    "   2. Actions - 1, 2, ..., m, $A_i$ is the set of actions available to player i\n",
    "\n",
    "2. Extensive Form - representation of a game in the form of a tree, where the nodes represent decision points and the branches represent actions available at each decision point\n",
    "\n",
    "A large collective action game - Whether to revolt or not, all players can choose to revolt or not, if the number of revolters is greater than a threshold, the revolt is successful, otherwise, it fails. Players that revolt get a payoff of 1 if the revolt is successful, 0 otherwise. Players that do not revolt get a payoff of 0 if the revolt is successful, -1 otherwise."
   ]
  },
  {
   "cell_type": "markdown",
   "metadata": {},
   "source": [
    "Prisoner's Dilemma - 2 players, 2 actions, 4 possible outcomes, 2 players can either cooperate or defect, if both cooperate, they get a payoff of 3, if both defect, they get a payoff of 1, if one cooperates and the other defects, the defector gets a payoff of 5 and the cooperator gets a payoff of 0. Players have exact opposite preferences.\n",
    "\n",
    "Matching Pennies - 2 players, 2 actions, 4 possible outcomes, 2 players can either choose heads or tails, if both choose the same, the chooser gets a payoff of 1, if they choose different, the chooser gets a payoff of -1. Players have exact opposite preferences\n",
    "\n",
    "Rock, Paper, Scissors - 2 players, 3 actions, 9 possible outcomes, 2 players can choose rock, paper, or scissors, if both choose the same, the game is a draw, if they choose different, the winner gets a payoff of 1, the loser gets a payoff of -1. Players have exact opposite preferences"
   ]
  },
  {
   "cell_type": "markdown",
   "metadata": {},
   "source": [
    "Nash Equilibrium - a set of strategies, one for each player, such that no player has incentive to unilaterally change their strategy. In other words, if all players are playing a Nash Equilibrium, no player has an incentive to change their strategy.\n",
    "\n",
    "Keynes Beauty Contest - You hold a stock and the price is rising. You believe that the price is too high to be justified by the value of the company. You want to sell when the price is as close to the peak as possible. You want to get out of the market just before other investors do.\n",
    "\n",
    "Alternate version - You are a judge in a beauty contest. You have to pick the most beautiful face. You want to pick the face that you think other judges will pick.\n",
    "\n",
    "Alternate version 2 - You and a group of people are asked to pick a number between 0 and 100. The winner is the person whose number is closest to 2/3 of the average number picked. You want to pick the number that you think other people will pick.\n",
    "    Suppose that the average number picked is X. 2/3 of X is 2X/3. The closest number to 2X/3 is X. So, you want to pick X. But, if everyone else is rational, they will also pick X. So, you want to pick the number that you think other people will pick. But, if everyone else is rational, they will also pick the number that they think other people will pick. So, you want to pick the number that you think other people will think that other people will pick. And so on. This is an infinite regress. Since you can only guess integers, the only rational number to pick is 1, since 1 is the closest integer to 2/3 of 1.\n",
    "\n",
    "    But if not all players are perfectly rational, the equilibrium is not 1. If some players are not perfectly rational, the equilibrium is higher than 1. If some players are not perfectly rational and know that other players are not perfectly rational, the equilibrium is higher than that.\n",
    "\n",
    "    If you play multiple rounds, players will learn that the equilibrium is low and will converge to 1. Non-rational players will be eliminated over time.\n"
   ]
  },
  {
   "cell_type": "markdown",
   "metadata": {},
   "source": [
    "## Best Response\n",
    "\n",
    "If you know what the other players are going to do, you can choose the best response to that action. The best response is the action that gives you the highest payoff given the action of the other player.\n",
    "\n",
    "## Nash Equilibrium\n",
    "\n",
    "A Nash Equilibrium is a set of strategies, one for each player, such that no player has incentive to unilaterally change their strategy. In other words, if all players are playing a Nash Equilibrium, no player has an incentive to change their strategy.\n",
    "\n",
    "In prisoner's dilemma, the Nash Equilibrium is for both players to defect. If one player cooperates, the other player has an incentive to defect. If both players defect, neither player has an incentive to change their strategy. Even though both players would be better off if they both cooperated, they both have an incentive to defect.\n",
    "\n",
    "In matching pennies, where one player wants to match and the other does not, Since one player's best choice changes depending on the other, a cycle of best responses is formed. There is no Nash Equilibrium in this game."
   ]
  },
  {
   "cell_type": "markdown",
   "metadata": {},
   "source": [
    "## Dominant Strategy\n",
    "\n",
    "**Strict Dominant Strategy** - Strategy A strictly dominates strategy B if the payoff from A is strictly greater than the payoff from B for all possible actions of the other player.\n",
    "\n",
    "**very weakly dominant strategy** - Strategy A very weakly dominates strategy B if the payoff from A is greater than or equal to the payoff from B for all possible actions of the other player.\n",
    "\n",
    "One strategy is dominant if it is the best response to all possible actions of the other player.\n",
    "\n",
    "A set of one strategy for each player is a **nash equilibrium** if each player is playing a dominant strategy.\n",
    "\n",
    "If, for a set of one strategy for each player, each player is playing a strictly dominant strategy, then that set of strategies is a _unique_ Nash Equilibrium. No other set of strategies is a Nash Equilibrium.\n",
    "\n",
    "In prisoner's dilemma, consider being player 2, and player one chose to cooperate. If you cooperate you get a light penalty, but if you defect, you get no penalty, so you should defect. Likewise, if player 1 defects, you should defect to get a lighter penalty. So you have a strictly dominant strategy to defect. Player 1 has the same reasoning, so both players defect, which is the only Nash Equilibrium."
   ]
  },
  {
   "cell_type": "markdown",
   "metadata": {},
   "source": [
    "# Analyzing Games\n",
    "\n",
    "From the point of view of an outsider, is there a strategy that gives the best result for all players? This is the social optimum.\n",
    "\n",
    "If outcome O is at least as good for all players as outcome O', and O is better than O' for at least one player, then O **pareto dominates** O'.\n",
    "\n",
    "An outcome is **paretto optimal** if there is no other outcome that pareto dominates it.\n",
    "\n",
    "Every outcome in a zero-sum game is pareto optimal."
   ]
  },
  {
   "cell_type": "markdown",
   "metadata": {},
   "source": [
    "relevant paper: http://papers.ssrn.com/sol3/papers.cfm?abstract_id=1968579"
   ]
  }
 ],
 "metadata": {
  "language_info": {
   "name": "python"
  },
  "orig_nbformat": 4
 },
 "nbformat": 4,
 "nbformat_minor": 2
}
