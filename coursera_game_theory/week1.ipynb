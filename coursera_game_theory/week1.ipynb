{
 "cells": [
  {
   "cell_type": "code",
   "execution_count": null,
   "metadata": {},
   "outputs": [],
   "source": []
  },
  {
   "cell_type": "markdown",
   "metadata": {},
   "source": [
    "Course Link: https://www.coursera.org/learn/game-theory-1"
   ]
  },
  {
   "cell_type": "markdown",
   "metadata": {},
   "source": [
    "Defining Games\n",
    "\n",
    "Players - individual decision makers in a game\n",
    "\n",
    "Actions - what can the players do\n",
    "\n",
    "Payoffs - what motivates the players (utility)\n",
    "\n",
    "2 standard forms of games\n",
    "\n",
    "1. Normal Form (Strategic Form) - matrix representation of a game, list what payoffs are as a function of actions taken by players\n",
    "   1. Players - 1, 2, ..., n, indexed by i\n",
    "   2. Actions - 1, 2, ..., m, $A_i$ is the set of actions available to player i\n",
    "\n",
    "2. Extensive Form - representation of a game in the form of a tree, where the nodes represent decision points and the branches represent actions available at each decision point\n",
    "\n",
    "A large collective action game - Whether to revolt or not, all players can choose to revolt or not, if the number of revolters is greater than a threshold, the revolt is successful, otherwise, it fails. Players that revolt get a payoff of 1 if the revolt is successful, 0 otherwise. Players that do not revolt get a payoff of 0 if the revolt is successful, -1 otherwise."
   ]
  },
  {
   "cell_type": "markdown",
   "metadata": {},
   "source": [
    "Prisoner's Dilemma - 2 players, 2 actions, 4 possible outcomes, 2 players can either cooperate or defect, if both cooperate, they get a payoff of 3, if both defect, they get a payoff of 1, if one cooperates and the other defects, the defector gets a payoff of 5 and the cooperator gets a payoff of 0. Players have exact opposite preferences.\n",
    "\n",
    "Matching Pennies - 2 players, 2 actions, 4 possible outcomes, 2 players can either choose heads or tails, if both choose the same, the chooser gets a payoff of 1, if they choose different, the chooser gets a payoff of -1. Players have exact opposite preferences\n",
    "\n",
    "Rock, Paper, Scissors - 2 players, 3 actions, 9 possible outcomes, 2 players can choose rock, paper, or scissors, if both choose the same, the game is a draw, if they choose different, the winner gets a payoff of 1, the loser gets a payoff of -1. Players have exact opposite preferences"
   ]
  },
  {
   "cell_type": "markdown",
   "metadata": {},
   "source": [
    "Nash Equilibrium - a set of strategies, one for each player, such that no player has incentive to unilaterally change their strategy. In other words, if all players are playing a Nash Equilibrium, no player has an incentive to change their strategy.\n",
    "\n",
    "Keynes Beauty Contest - You hold a stock and the price is rising. You believe that the price is too high to be justified by the value of the company. You want to sell when the price is as close to the peak as possible. You want to get out of the market just before other investors do.\n",
    "\n",
    "Alternate version - You are a judge in a beauty contest. You have to pick the most beautiful face. You want to pick the face that you think other judges will pick.\n",
    "\n",
    "Alternate version 2 - You and a group of people are asked to pick a number between 0 and 100. The winner is the person whose number is closest to 2/3 of the average number picked. You want to pick the number that you think other people will pick.\n",
    "    Suppose that the average number picked is X. 2/3 of X is 2X/3. The closest number to 2X/3 is X. So, you want to pick X. But, if everyone else is rational, they will also pick X. So, you want to pick the number that you think other people will pick. But, if everyone else is rational, they will also pick the number that they think other people will pick. So, you want to pick the number that you think other people will think that other people will pick. And so on. This is an infinite regress. Since you can only guess integers, the only rational number to pick is 1, since 1 is the closest integer to 2/3 of 1.\n",
    "\n",
    "    But if not all players are perfectly rational, the equilibrium is not 1. If some players are not perfectly rational, the equilibrium is higher than 1. If some players are not perfectly rational and know that other players are not perfectly rational, the equilibrium is higher than that.\n",
    "\n",
    "    If you play multiple rounds, players will learn that the equilibrium is low and will converge to 1. Non-rational players will be eliminated over time.\n"
   ]
  }
 ],
 "metadata": {
  "language_info": {
   "name": "python"
  },
  "orig_nbformat": 4
 },
 "nbformat": 4,
 "nbformat_minor": 2
}
