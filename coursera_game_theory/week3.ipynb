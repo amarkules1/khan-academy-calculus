{
 "cells": [
  {
   "cell_type": "code",
   "execution_count": null,
   "metadata": {},
   "outputs": [],
   "source": []
  },
  {
   "cell_type": "markdown",
   "metadata": {},
   "source": [
    "# Iterated Removal of Dominated Strategy\n",
    "\n",
    "Remove from consideration any strategies for the other player that are dominated by another strategy, limiting the other player to the remaining strategies. Repeat this process until no more dominated strategies exist, then solve the resulting game.\n",
    "\n",
    "A strictly dominated strategy can never be a best reply, ignore it, it cannot be played by a rational agent\n",
    "\n",
    "A strategy, $a_i \\in A_i$ is strictly dominated by another strategy $a_j \\in A_i$ if for all strategies $a_{-i} \\in A_{-i}$, the payoff from playing $a_j$ is strictly greater than the payoff from playing $a_i$.\n",
    "\n",
    "New strictly dominated strategies can be revealed by the removal of other strictly dominated strategies.\n",
    "\n",
    "Sometimes there is a mixed strategy containing 2 or more other strategies (none of which are $a_i$), which is dominant over a pure strategy $a_i$. In that case, the pure strategy can be removed as strictly dominated by the mixed strategy.\n",
    "\n",
    "A game that can be solved using Iterated Removal of Dominated Strategy is called a Dominance Solvable Game.\n",
    "\n",
    "A weakly dominated strategy $a_i$ is a strategy where another strategy $a_j$ exists which is at least as good for all opponent responses, and $a_j$ is better than $a_i$ for at least one opponent response. A weakly dominated strategy can be a best reply, but it is never a best reply in equilibrium. It can be ignored in the Iterated Removal of Dominated Strategy."
   ]
  },
  {
   "cell_type": "markdown",
   "metadata": {},
   "source": [
    "# Dominated Strategies and iterative removal example\n",
    "\n",
    "Example: feeding behavior of pigs\n",
    "\n",
    "2 pigs in a cage, one is larger, they need to press a lever on one side of the cage for food to appear on the other side of the cage. \n",
    "\n",
    "10 units of food. typical split for each scenario:\n",
    "\n",
    "* if large gets to the food first, large gets 9, small gets 1\n",
    "* if small gets to the food first, large gets 6, small gets 4\n",
    "* if they get to the food at the same time, large gets 7, small gets 3\n",
    "* pressing the lever expends energy equivalent to 2 units of food\n",
    "\n",
    "| Small/Large | Press | Wait  |\n",
    "|-------------|-------|-------|\n",
    "| Press       | 1, 5  | -1, 9 |\n",
    "| Wait        | 4, 4  | 0, 0  |\n",
    "\n",
    "Wait strictly dominates Press for Small, so Press can be removed as a strategy for the small pig.\n",
    "\n",
    "| Small/Large | Press | Wait  |\n",
    "|-------------|-------|-------|\n",
    "| Wait        | 4, 4  | 0, 0  |\n",
    "\n",
    "Now press strictly dominates wait for the large pig, so wait can be removed as a strategy for the large pig.\n",
    "\n",
    "| Small/Large | Press |\n",
    "|-------------|-------|\n",
    "| Wait        | 4, 4  |\n",
    "\n",
    "In real life, the larger pig in the cage takes over most of the pressing, and the smaller pig waits for the food to appear.\n",
    "\n",
    "The pigs don't solve the game, they just learn from experience and gradually adapt their behavior\n"
   ]
  }
 ],
 "metadata": {
  "language_info": {
   "name": "python"
  },
  "orig_nbformat": 4
 },
 "nbformat": 4,
 "nbformat_minor": 2
}
